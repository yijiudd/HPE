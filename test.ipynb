{
 "cells": [
  {
   "cell_type": "code",
   "execution_count": 18,
   "metadata": {},
   "outputs": [
    {
     "name": "stdout",
     "output_type": "stream",
     "text": [
      "Downloading split 'validation' to '/Users/yijiu/fiftyone/coco-2017/validation' if necessary\n",
      "Found annotations at '/Users/yijiu/fiftyone/coco-2017/raw/instances_val2017.json'\n",
      "Images already downloaded\n",
      "Existing download of split 'validation' is sufficient\n",
      "Loading existing dataset 'coco-2017-validation'. To reload from disk, either delete the existing dataset or provide a custom `dataset_name` to use\n"
     ]
    }
   ],
   "source": [
    "import fiftyone as fo\n",
    "import fiftyone.zoo as foz\n",
    "dataset = foz.load_zoo_dataset(\"coco-2017\",split=\"validation\",label_types=[\"keypoints\"])\n"
   ]
  },
  {
   "cell_type": "code",
   "execution_count": 24,
   "metadata": {},
   "outputs": [
    {
     "ename": "ValueError",
     "evalue": "Failed to construct importer of type <class 'fiftyone.utils.coco.COCODetectionDatasetImporter'> using the provided parameters. See above for the error. You may need to supply additional mandatory arguments. Please consult the documentation of <class 'fiftyone.utils.coco.COCODetectionDatasetImporter'> to learn more",
     "output_type": "error",
     "traceback": [
      "\u001b[0;31m---------------------------------------------------------------------------\u001b[0m",
      "\u001b[0;31mValueError\u001b[0m                                Traceback (most recent call last)",
      "File \u001b[0;32m~/workspace/fiftyone/env/lib/python3.9/site-packages/fiftyone/utils/data/importers.py:598\u001b[0m, in \u001b[0;36mbuild_dataset_importer\u001b[0;34m(dataset_type, strip_none, warn_unused, name, **kwargs)\u001b[0m\n\u001b[1;32m    597\u001b[0m \u001b[39mtry\u001b[39;00m:\n\u001b[0;32m--> 598\u001b[0m     dataset_importer \u001b[39m=\u001b[39m dataset_importer_cls(\u001b[39m*\u001b[39;49m\u001b[39m*\u001b[39;49mkwargs)\n\u001b[1;32m    599\u001b[0m \u001b[39mexcept\u001b[39;00m \u001b[39mException\u001b[39;00m \u001b[39mas\u001b[39;00m e:\n",
      "File \u001b[0;32m~/workspace/fiftyone/env/lib/python3.9/site-packages/fiftyone/utils/coco.py:379\u001b[0m, in \u001b[0;36mCOCODetectionDatasetImporter.__init__\u001b[0;34m(self, dataset_dir, data_path, labels_path, label_types, classes, image_ids, include_id, include_annotation_id, include_license, extra_attrs, only_matching, use_polylines, tolerance, shuffle, seed, max_samples)\u001b[0m\n\u001b[1;32m    373\u001b[0m labels_path \u001b[39m=\u001b[39m \u001b[39mself\u001b[39m\u001b[39m.\u001b[39m_parse_labels_path(\n\u001b[1;32m    374\u001b[0m     dataset_dir\u001b[39m=\u001b[39mdataset_dir,\n\u001b[1;32m    375\u001b[0m     labels_path\u001b[39m=\u001b[39mlabels_path,\n\u001b[1;32m    376\u001b[0m     default\u001b[39m=\u001b[39m\u001b[39m\"\u001b[39m\u001b[39mlabels.json\u001b[39m\u001b[39m\"\u001b[39m,\n\u001b[1;32m    377\u001b[0m )\n\u001b[0;32m--> 379\u001b[0m _label_types \u001b[39m=\u001b[39m _parse_label_types(label_types)\n\u001b[1;32m    381\u001b[0m include_license \u001b[39m=\u001b[39m _parse_include_license(include_license)\n",
      "File \u001b[0;32m~/workspace/fiftyone/env/lib/python3.9/site-packages/fiftyone/utils/coco.py:1776\u001b[0m, in \u001b[0;36m_parse_label_types\u001b[0;34m(label_types)\u001b[0m\n\u001b[1;32m   1775\u001b[0m \u001b[39mif\u001b[39;00m \u001b[39mlen\u001b[39m(bad_types) \u001b[39m>\u001b[39m \u001b[39m1\u001b[39m:\n\u001b[0;32m-> 1776\u001b[0m     \u001b[39mraise\u001b[39;00m \u001b[39mValueError\u001b[39;00m(\n\u001b[1;32m   1777\u001b[0m         \u001b[39m\"\u001b[39m\u001b[39mUnsupported label types \u001b[39m\u001b[39m%s\u001b[39;00m\u001b[39m. Supported types are \u001b[39m\u001b[39m%s\u001b[39;00m\u001b[39m\"\u001b[39m\n\u001b[1;32m   1778\u001b[0m         \u001b[39m%\u001b[39m (bad_types, _SUPPORTED_LABEL_TYPES)\n\u001b[1;32m   1779\u001b[0m     )\n\u001b[1;32m   1781\u001b[0m \u001b[39mreturn\u001b[39;00m label_types\n",
      "\u001b[0;31mValueError\u001b[0m: Unsupported label types ['detection', 'segmentation']. Supported types are ['detections', 'segmentations', 'keypoints']",
      "\nThe above exception was the direct cause of the following exception:\n",
      "\u001b[0;31mValueError\u001b[0m                                Traceback (most recent call last)",
      "Cell \u001b[0;32mIn[24], line 3\u001b[0m\n\u001b[1;32m      1\u001b[0m \u001b[39mimport\u001b[39;00m \u001b[39mfiftyone\u001b[39;00m \u001b[39mas\u001b[39;00m \u001b[39mfo\u001b[39;00m\n\u001b[0;32m----> 3\u001b[0m dataset \u001b[39m=\u001b[39m fo\u001b[39m.\u001b[39;49mDataset\u001b[39m.\u001b[39;49mfrom_dir(\n\u001b[1;32m      4\u001b[0m     dataset_dir\u001b[39m=\u001b[39;49m\u001b[39m'\u001b[39;49m\u001b[39m/Users/yijiu/fiftyone/coco-2017/validation\u001b[39;49m\u001b[39m'\u001b[39;49m ,\n\u001b[1;32m      5\u001b[0m     labels_path\u001b[39m=\u001b[39;49m\u001b[39m'\u001b[39;49m\u001b[39m/Users/yijiu/fiftyone/coco-2017/raw/person_keypoints_val2017.json\u001b[39;49m\u001b[39m'\u001b[39;49m,\n\u001b[1;32m      6\u001b[0m     dataset_type\u001b[39m=\u001b[39;49mfo\u001b[39m.\u001b[39;49mtypes\u001b[39m.\u001b[39;49mCOCODetectionDataset,\n\u001b[1;32m      7\u001b[0m     label_types\u001b[39m=\u001b[39;49m[\u001b[39m\"\u001b[39;49m\u001b[39mkeypoints\u001b[39;49m\u001b[39m\"\u001b[39;49m,\u001b[39m\"\u001b[39;49m\u001b[39mdetection\u001b[39;49m\u001b[39m\"\u001b[39;49m,\u001b[39m\"\u001b[39;49m\u001b[39msegmentation\u001b[39;49m\u001b[39m\"\u001b[39;49m],\n\u001b[1;32m      8\u001b[0m )\n",
      "File \u001b[0;32m~/workspace/fiftyone/env/lib/python3.9/site-packages/fiftyone/core/dataset.py:5200\u001b[0m, in \u001b[0;36mDataset.from_dir\u001b[0;34m(cls, dataset_dir, dataset_type, data_path, labels_path, name, label_field, tags, dynamic, **kwargs)\u001b[0m\n\u001b[1;32m   5110\u001b[0m \u001b[39m\u001b[39m\u001b[39m\"\"\"Creates a :class:`Dataset` from the contents of the given directory.\u001b[39;00m\n\u001b[1;32m   5111\u001b[0m \n\u001b[1;32m   5112\u001b[0m \u001b[39mYou can create datasets with this method via the following basic\u001b[39;00m\n\u001b[0;32m   (...)\u001b[0m\n\u001b[1;32m   5197\u001b[0m \u001b[39m    a :class:`Dataset`\u001b[39;00m\n\u001b[1;32m   5198\u001b[0m \u001b[39m\"\"\"\u001b[39;00m\n\u001b[1;32m   5199\u001b[0m dataset \u001b[39m=\u001b[39m \u001b[39mcls\u001b[39m(name)\n\u001b[0;32m-> 5200\u001b[0m dataset\u001b[39m.\u001b[39;49madd_dir(\n\u001b[1;32m   5201\u001b[0m     dataset_dir\u001b[39m=\u001b[39;49mdataset_dir,\n\u001b[1;32m   5202\u001b[0m     dataset_type\u001b[39m=\u001b[39;49mdataset_type,\n\u001b[1;32m   5203\u001b[0m     data_path\u001b[39m=\u001b[39;49mdata_path,\n\u001b[1;32m   5204\u001b[0m     labels_path\u001b[39m=\u001b[39;49mlabels_path,\n\u001b[1;32m   5205\u001b[0m     label_field\u001b[39m=\u001b[39;49mlabel_field,\n\u001b[1;32m   5206\u001b[0m     tags\u001b[39m=\u001b[39;49mtags,\n\u001b[1;32m   5207\u001b[0m     dynamic\u001b[39m=\u001b[39;49mdynamic,\n\u001b[1;32m   5208\u001b[0m     \u001b[39m*\u001b[39;49m\u001b[39m*\u001b[39;49mkwargs,\n\u001b[1;32m   5209\u001b[0m )\n\u001b[1;32m   5210\u001b[0m \u001b[39mreturn\u001b[39;00m dataset\n",
      "File \u001b[0;32m~/workspace/fiftyone/env/lib/python3.9/site-packages/fiftyone/core/dataset.py:3931\u001b[0m, in \u001b[0;36mDataset.add_dir\u001b[0;34m(self, dataset_dir, dataset_type, data_path, labels_path, label_field, tags, expand_schema, dynamic, add_info, **kwargs)\u001b[0m\n\u001b[1;32m   3825\u001b[0m \u001b[39mdef\u001b[39;00m \u001b[39madd_dir\u001b[39m(\n\u001b[1;32m   3826\u001b[0m     \u001b[39mself\u001b[39m,\n\u001b[1;32m   3827\u001b[0m     dataset_dir\u001b[39m=\u001b[39m\u001b[39mNone\u001b[39;00m,\n\u001b[0;32m   (...)\u001b[0m\n\u001b[1;32m   3836\u001b[0m     \u001b[39m*\u001b[39m\u001b[39m*\u001b[39mkwargs,\n\u001b[1;32m   3837\u001b[0m ):\n\u001b[1;32m   3838\u001b[0m \u001b[39m    \u001b[39m\u001b[39m\"\"\"Adds the contents of the given directory to the dataset.\u001b[39;00m\n\u001b[1;32m   3839\u001b[0m \n\u001b[1;32m   3840\u001b[0m \u001b[39m    You can perform imports with this method via the following basic\u001b[39;00m\n\u001b[0;32m   (...)\u001b[0m\n\u001b[1;32m   3929\u001b[0m \u001b[39m        a list of IDs of the samples that were added to the dataset\u001b[39;00m\n\u001b[1;32m   3930\u001b[0m \u001b[39m    \"\"\"\u001b[39;00m\n\u001b[0;32m-> 3931\u001b[0m     dataset_importer, _ \u001b[39m=\u001b[39m foud\u001b[39m.\u001b[39;49mbuild_dataset_importer(\n\u001b[1;32m   3932\u001b[0m         dataset_type,\n\u001b[1;32m   3933\u001b[0m         dataset_dir\u001b[39m=\u001b[39;49mdataset_dir,\n\u001b[1;32m   3934\u001b[0m         data_path\u001b[39m=\u001b[39;49mdata_path,\n\u001b[1;32m   3935\u001b[0m         labels_path\u001b[39m=\u001b[39;49mlabels_path,\n\u001b[1;32m   3936\u001b[0m         name\u001b[39m=\u001b[39;49m\u001b[39mself\u001b[39;49m\u001b[39m.\u001b[39;49mname,\n\u001b[1;32m   3937\u001b[0m         \u001b[39m*\u001b[39;49m\u001b[39m*\u001b[39;49mkwargs,\n\u001b[1;32m   3938\u001b[0m     )\n\u001b[1;32m   3940\u001b[0m     \u001b[39mreturn\u001b[39;00m \u001b[39mself\u001b[39m\u001b[39m.\u001b[39madd_importer(\n\u001b[1;32m   3941\u001b[0m         dataset_importer,\n\u001b[1;32m   3942\u001b[0m         label_field\u001b[39m=\u001b[39mlabel_field,\n\u001b[0;32m   (...)\u001b[0m\n\u001b[1;32m   3946\u001b[0m         add_info\u001b[39m=\u001b[39madd_info,\n\u001b[1;32m   3947\u001b[0m     )\n",
      "File \u001b[0;32m~/workspace/fiftyone/env/lib/python3.9/site-packages/fiftyone/utils/data/importers.py:600\u001b[0m, in \u001b[0;36mbuild_dataset_importer\u001b[0;34m(dataset_type, strip_none, warn_unused, name, **kwargs)\u001b[0m\n\u001b[1;32m    598\u001b[0m     dataset_importer \u001b[39m=\u001b[39m dataset_importer_cls(\u001b[39m*\u001b[39m\u001b[39m*\u001b[39mkwargs)\n\u001b[1;32m    599\u001b[0m \u001b[39mexcept\u001b[39;00m \u001b[39mException\u001b[39;00m \u001b[39mas\u001b[39;00m e:\n\u001b[0;32m--> 600\u001b[0m     \u001b[39mraise\u001b[39;00m \u001b[39mValueError\u001b[39;00m(\n\u001b[1;32m    601\u001b[0m         \u001b[39m\"\u001b[39m\u001b[39mFailed to construct importer of type \u001b[39m\u001b[39m%s\u001b[39;00m\u001b[39m using the provided \u001b[39m\u001b[39m\"\u001b[39m\n\u001b[1;32m    602\u001b[0m         \u001b[39m\"\u001b[39m\u001b[39mparameters. See above for the error. You may need to supply \u001b[39m\u001b[39m\"\u001b[39m\n\u001b[1;32m    603\u001b[0m         \u001b[39m\"\u001b[39m\u001b[39madditional mandatory arguments. Please consult the documentation \u001b[39m\u001b[39m\"\u001b[39m\n\u001b[1;32m    604\u001b[0m         \u001b[39m\"\u001b[39m\u001b[39mof \u001b[39m\u001b[39m%s\u001b[39;00m\u001b[39m to learn more\u001b[39m\u001b[39m\"\u001b[39m\n\u001b[1;32m    605\u001b[0m         \u001b[39m%\u001b[39m (dataset_importer_cls, dataset_importer_cls)\n\u001b[1;32m    606\u001b[0m     ) \u001b[39mfrom\u001b[39;00m \u001b[39me\u001b[39;00m\n\u001b[1;32m    608\u001b[0m \u001b[39mif\u001b[39;00m warn_unused:\n\u001b[1;32m    609\u001b[0m     \u001b[39mfor\u001b[39;00m key, value \u001b[39min\u001b[39;00m unused_kwargs\u001b[39m.\u001b[39mitems():\n",
      "\u001b[0;31mValueError\u001b[0m: Failed to construct importer of type <class 'fiftyone.utils.coco.COCODetectionDatasetImporter'> using the provided parameters. See above for the error. You may need to supply additional mandatory arguments. Please consult the documentation of <class 'fiftyone.utils.coco.COCODetectionDatasetImporter'> to learn more"
     ]
    }
   ],
   "source": [
    "import fiftyone as fo\n",
    "\n",
    "dataset = fo.Dataset.from_dir(\n",
    "    dataset_dir='/Users/yijiu/fiftyone/coco-2017/validation' ,\n",
    "    labels_path='/Users/yijiu/fiftyone/coco-2017/raw/person_keypoints_val2017.json',\n",
    "    dataset_type=fo.types.COCODetectionDataset,\n",
    "    label_types=['detections', 'segmentations', 'keypoints'],\n",
    ")\n"
   ]
  },
  {
   "cell_type": "code",
   "execution_count": 22,
   "metadata": {},
   "outputs": [
    {
     "data": {
      "text/html": [
       "\n",
       "        <iframe\n",
       "            width=\"100%\"\n",
       "            height=\"800\"\n",
       "            src=\"http://localhost:5151/?notebook=True&subscription=6135705b-2869-41ca-a3a5-c1625a42229f\"\n",
       "            frameborder=\"0\"\n",
       "            allowfullscreen\n",
       "            \n",
       "        ></iframe>\n",
       "        "
      ],
      "text/plain": [
       "<IPython.lib.display.IFrame at 0x2a0f91370>"
      ]
     },
     "metadata": {},
     "output_type": "display_data"
    }
   ],
   "source": [
    "session = fo.launch_app(dataset)"
   ]
  }
 ],
 "metadata": {
  "kernelspec": {
   "display_name": "env",
   "language": "python",
   "name": "python3"
  },
  "language_info": {
   "codemirror_mode": {
    "name": "ipython",
    "version": 3
   },
   "file_extension": ".py",
   "mimetype": "text/x-python",
   "name": "python",
   "nbconvert_exporter": "python",
   "pygments_lexer": "ipython3",
   "version": "3.9.12"
  },
  "orig_nbformat": 4
 },
 "nbformat": 4,
 "nbformat_minor": 2
}
